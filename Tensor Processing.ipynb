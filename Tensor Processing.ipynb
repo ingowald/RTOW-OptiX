{
 "cells": [
  {
   "cell_type": "code",
   "execution_count": 1,
   "metadata": {},
   "outputs": [],
   "source": [
    "using DataFrames;"
   ]
  },
  {
   "cell_type": "code",
   "execution_count": 2,
   "metadata": {},
   "outputs": [],
   "source": [
    "using LinearAlgebra;"
   ]
  },
  {
   "cell_type": "code",
   "execution_count": 3,
   "metadata": {},
   "outputs": [
    {
     "data": {
      "text/plain": [
       "0.0001"
      ]
     },
     "execution_count": 3,
     "metadata": {},
     "output_type": "execute_result"
    }
   ],
   "source": [
    "TOL = 1e-4"
   ]
  },
  {
   "cell_type": "code",
   "execution_count": 4,
   "metadata": {},
   "outputs": [
    {
     "name": "stderr",
     "output_type": "stream",
     "text": [
      "┌ Warning: readtable is deprecated, use CSV.read from the CSV package instead\n",
      "│   caller = top-level scope at In[4]:1\n",
      "└ @ Core In[4]:1\n"
     ]
    },
    {
     "name": "stdout",
     "output_type": "stream",
     "text": [
      "[-11.317 -10.12 2.8978; 45.466 86.037 -433.36; 0.028671 38.248 -62.274]\n",
      "*****\n",
      "[163.09 29.24 -198.21; 122.05 21.069 -89.915; 457.34 76.642 -172.86]\n",
      "*****\n",
      "[-44.434 189.45 81.13; 78.246 -45.926 -164.95; 32.59 -302.35 34.861]\n",
      "*****\n",
      "[390.12 53.034 296.01; 102.86 -15.358 87.843; -477.58 -46.895 -226.83]\n",
      "*****\n",
      "[163.72 117.25 -213.88; 154.44 133.69 -146.44; 259.4 320.89 -207.33]\n",
      "*****\n",
      "[45.593 21.837 -168.21; 166.08 137.2 -311.68; 77.686 141.76 -138.29]\n",
      "*****\n",
      "[-5.4906 -4.301 -34.579; 86.754 114.93 -469.75; 4.5217 59.763 -111.79]\n",
      "*****\n",
      "[5.054 -2.9375 -93.008; 132.55 108.53 -363.45; 20.453 91.849 -116.17]\n",
      "*****\n",
      "[74.973 65.682 -172.28; 157.06 152.09 -268.06; 119.14 209.27 -175.85]\n",
      "*****\n"
     ]
    }
   ],
   "source": [
    "tensor_df = readtable(\"tensor_head.csv\");\n",
    "for i in 1:size(tensor_df,1)\n",
    "    curr_row = tensor_df[i,1:9];\n",
    "    T_flat = [x for x in curr_row]\n",
    "    T = transpose(reshape(T_flat, 3, 3))\n",
    "    println(T)\n",
    "    println(\"*****\")\n",
    "end"
   ]
  },
  {
   "cell_type": "code",
   "execution_count": 7,
   "metadata": {
    "scrolled": false
   },
   "outputs": [
    {
     "data": {
      "text/plain": [
       "3×3 Array{Float64,2}:\n",
       " -11.317     -10.12      2.8978\n",
       "  45.466      86.037  -433.36  \n",
       "   0.028671   38.248   -62.274 "
      ]
     },
     "execution_count": 7,
     "metadata": {},
     "output_type": "execute_result"
    }
   ],
   "source": [
    "A = [-11.317 -10.12 2.8978; 45.466 86.037 -433.36; 0.028671 38.248 -62.274]"
   ]
  },
  {
   "cell_type": "code",
   "execution_count": 8,
   "metadata": {
    "scrolled": true
   },
   "outputs": [
    {
     "data": {
      "text/plain": [
       "Eigen{Float64,Float64,Array{Float64,2},Array{Float64,1}}\n",
       "eigenvalues:\n",
       "3-element Array{Float64,1}:\n",
       " -199.80875227189026 \n",
       "  -11.440926915527712\n",
       "  223.69567918741873 \n",
       "eigenvectors:\n",
       "3×3 Array{Float64,2}:\n",
       " -0.0598078   0.996509   -0.0582456\n",
       "  0.570036   -0.0138046  -0.821504 \n",
       "  0.81944     0.0823344   0.56722  "
      ]
     },
     "execution_count": 8,
     "metadata": {},
     "output_type": "execute_result"
    }
   ],
   "source": [
    "foo = eigen((A + A')/2)"
   ]
  },
  {
   "cell_type": "code",
   "execution_count": 9,
   "metadata": {
    "scrolled": true
   },
   "outputs": [
    {
     "data": {
      "text/plain": [
       "3-element Array{Float64,1}:\n",
       " -199.80875227189026 \n",
       "  -11.440926915527712\n",
       "  223.69567918741873 "
      ]
     },
     "execution_count": 9,
     "metadata": {},
     "output_type": "execute_result"
    }
   ],
   "source": [
    "foo.values"
   ]
  },
  {
   "cell_type": "code",
   "execution_count": 10,
   "metadata": {},
   "outputs": [
    {
     "data": {
      "text/plain": [
       "3-element Array{Float64,1}:\n",
       "  0.0\n",
       "  0.0\n",
       " 10.0"
      ]
     },
     "execution_count": 10,
     "metadata": {},
     "output_type": "execute_result"
    }
   ],
   "source": [
    "clamp.(foo.values,0, 10)"
   ]
  },
  {
   "cell_type": "code",
   "execution_count": 30,
   "metadata": {},
   "outputs": [
    {
     "data": {
      "text/plain": [
       "get_tensor_warp! (generic function with 1 method)"
      ]
     },
     "execution_count": 30,
     "metadata": {},
     "output_type": "execute_result"
    }
   ],
   "source": [
    "#mutates out_Q and out_D_clamped\n",
    "function get_tensor_warp!(T, e_min, e_max, out_Q, out_D_clamped)\n",
    "    S = (T + T')/2; #S is the symmetric part of T\n",
    "    eigenDecomp = eigen(S);\n",
    "    out_Q[:] = eigenDecomp.vectors\n",
    "    for lambda in eigenDecomp.values\n",
    "        #TODO: reject values too close to zero?\n",
    "        if lambda < 0 #reject negative\n",
    "            return false;\n",
    "        end\n",
    "    end\n",
    "    #clamped_eigvals = clamp.(eigenDecomp.values,0,10)\n",
    "    clamped_eigvals = eigenDecomp.values #no clamping\n",
    "    out_D_clamped[:] = Diagonal(clamped_eigvals)\n",
    "    return true;\n",
    "end"
   ]
  },
  {
   "cell_type": "code",
   "execution_count": 12,
   "metadata": {
    "scrolled": true
   },
   "outputs": [
    {
     "data": {
      "text/plain": [
       "3×3 Array{Float64,2}:\n",
       " 6.93479e-310  6.93479e-310  6.93479e-310\n",
       " 6.93479e-310  6.93479e-310  0.0         \n",
       " 6.93479e-310  6.93479e-310  0.0         "
      ]
     },
     "execution_count": 12,
     "metadata": {},
     "output_type": "execute_result"
    }
   ],
   "source": [
    "Q = Array{Float64,2}(undef, 3,3)"
   ]
  },
  {
   "cell_type": "code",
   "execution_count": 13,
   "metadata": {},
   "outputs": [
    {
     "data": {
      "text/plain": [
       "3×3 Array{Float64,2}:\n",
       " 6.93479e-310  4.94066e-324  6.93479e-310\n",
       " 6.93479e-310  6.93479e-310  1.97626e-323\n",
       " 6.93479e-310  6.93479e-310  1.97626e-323"
      ]
     },
     "execution_count": 13,
     "metadata": {},
     "output_type": "execute_result"
    }
   ],
   "source": [
    "D_clamped = Array{Float64,2}(undef, 3,3)"
   ]
  },
  {
   "cell_type": "code",
   "execution_count": 14,
   "metadata": {},
   "outputs": [
    {
     "data": {
      "text/plain": [
       "3×3 Array{Float64,2}:\n",
       " NaN  NaN  NaN\n",
       " NaN  NaN  NaN\n",
       " NaN  NaN  NaN"
      ]
     },
     "execution_count": 14,
     "metadata": {},
     "output_type": "execute_result"
    }
   ],
   "source": [
    "fill!(Q,NaN)"
   ]
  },
  {
   "cell_type": "code",
   "execution_count": 15,
   "metadata": {
    "scrolled": true
   },
   "outputs": [
    {
     "data": {
      "text/plain": [
       "3×3 Array{Float64,2}:\n",
       " NaN  NaN  NaN\n",
       " NaN  NaN  NaN\n",
       " NaN  NaN  NaN"
      ]
     },
     "execution_count": 15,
     "metadata": {},
     "output_type": "execute_result"
    }
   ],
   "source": [
    "fill!(D_clamped,NaN)"
   ]
  },
  {
   "cell_type": "code",
   "execution_count": 34,
   "metadata": {
    "scrolled": true
   },
   "outputs": [
    {
     "data": {
      "text/plain": [
       "3×3 Array{Float64,2}:\n",
       " -11.317     -10.12      2.8978\n",
       "  45.466      86.037  -433.36  \n",
       "   0.028671   38.248   -62.274 "
      ]
     },
     "execution_count": 34,
     "metadata": {},
     "output_type": "execute_result"
    }
   ],
   "source": [
    "A"
   ]
  },
  {
   "cell_type": "code",
   "execution_count": 35,
   "metadata": {},
   "outputs": [
    {
     "data": {
      "text/plain": [
       "Eigen{Float64,Float64,Array{Float64,2},Array{Float64,1}}\n",
       "eigenvalues:\n",
       "3-element Array{Float64,1}:\n",
       " -199.80875227189026 \n",
       "  -11.440926915527712\n",
       "  223.69567918741873 \n",
       "eigenvectors:\n",
       "3×3 Array{Float64,2}:\n",
       " -0.0598078   0.996509   -0.0582456\n",
       "  0.570036   -0.0138046  -0.821504 \n",
       "  0.81944     0.0823344   0.56722  "
      ]
     },
     "execution_count": 35,
     "metadata": {},
     "output_type": "execute_result"
    }
   ],
   "source": [
    "eigs_A_symm = eigen((A + A')/2)"
   ]
  },
  {
   "cell_type": "code",
   "execution_count": 16,
   "metadata": {},
   "outputs": [
    {
     "data": {
      "text/plain": [
       "false"
      ]
     },
     "execution_count": 16,
     "metadata": {},
     "output_type": "execute_result"
    }
   ],
   "source": [
    "get_tensor_warp!(A, -10, 10, Q, D_clamped)"
   ]
  },
  {
   "cell_type": "code",
   "execution_count": 21,
   "metadata": {},
   "outputs": [
    {
     "data": {
      "text/plain": [
       "3×3 Array{Int64,2}:\n",
       "  1  -1   0\n",
       " -1   2  -1\n",
       "  0  -1   1"
      ]
     },
     "execution_count": 21,
     "metadata": {},
     "output_type": "execute_result"
    }
   ],
   "source": [
    "B = [1 -1 0; -1 2 -1; 0 -1 1]"
   ]
  },
  {
   "cell_type": "code",
   "execution_count": 22,
   "metadata": {},
   "outputs": [
    {
     "data": {
      "text/plain": [
       "Eigen{Float64,Float64,Array{Float64,2},Array{Float64,1}}\n",
       "eigenvalues:\n",
       "3-element Array{Float64,1}:\n",
       " 2.6645352591003757e-15\n",
       " 1.0000000000000018    \n",
       " 3.0                   \n",
       "eigenvectors:\n",
       "3×3 Array{Float64,2}:\n",
       " 0.57735  -0.707107     -0.408248\n",
       " 0.57735   9.42055e-16   0.816497\n",
       " 0.57735   0.707107     -0.408248"
      ]
     },
     "execution_count": 22,
     "metadata": {},
     "output_type": "execute_result"
    }
   ],
   "source": [
    "eigs_B_symm = eigen((B + B')/2)"
   ]
  },
  {
   "cell_type": "code",
   "execution_count": 31,
   "metadata": {},
   "outputs": [
    {
     "data": {
      "text/plain": [
       "true"
      ]
     },
     "execution_count": 31,
     "metadata": {},
     "output_type": "execute_result"
    }
   ],
   "source": [
    "get_tensor_warp!(B, -10, 10, Q, D_clamped)"
   ]
  },
  {
   "cell_type": "code",
   "execution_count": 32,
   "metadata": {},
   "outputs": [
    {
     "data": {
      "text/plain": [
       "3×3 Array{Float64,2}:\n",
       " 0.57735  -0.707107     -0.408248\n",
       " 0.57735   9.42055e-16   0.816497\n",
       " 0.57735   0.707107     -0.408248"
      ]
     },
     "execution_count": 32,
     "metadata": {},
     "output_type": "execute_result"
    }
   ],
   "source": [
    "Q"
   ]
  },
  {
   "cell_type": "code",
   "execution_count": 33,
   "metadata": {
    "scrolled": true
   },
   "outputs": [
    {
     "data": {
      "text/plain": [
       "3×3 Array{Float64,2}:\n",
       " 2.66454e-15  0.0  0.0\n",
       " 0.0          1.0  0.0\n",
       " 0.0          0.0  3.0"
      ]
     },
     "execution_count": 33,
     "metadata": {},
     "output_type": "execute_result"
    }
   ],
   "source": [
    "D_clamped"
   ]
  }
 ],
 "metadata": {
  "kernelspec": {
   "display_name": "Julia 1.1.0",
   "language": "julia",
   "name": "julia-1.1"
  },
  "language_info": {
   "file_extension": ".jl",
   "mimetype": "application/julia",
   "name": "julia",
   "version": "1.1.0"
  }
 },
 "nbformat": 4,
 "nbformat_minor": 2
}
